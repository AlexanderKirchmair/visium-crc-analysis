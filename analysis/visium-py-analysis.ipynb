{
 "cells": [
  {
   "cell_type": "markdown",
   "id": "446a0e68-f3a8-47b9-90ab-f07061609991",
   "metadata": {},
   "source": [
    "# Visium HD Analysis"
   ]
  },
  {
   "cell_type": "code",
   "execution_count": null,
   "id": "e2282896-a0d7-452b-93df-bf1a8577820b",
   "metadata": {},
   "outputs": [],
   "source": [
    "import scanpy as sc\n",
    "import squidpy as sq\n",
    "import anndata as ad\n",
    "\n",
    "import spatialdata as sd\n",
    "import spatialdata_io as sdio\n",
    "import spatialdata_plot as sdpl\n",
    "\n",
    "import matplotlib.pyplot as plt"
   ]
  },
  {
   "cell_type": "markdown",
   "id": "f4f7d4ee-8fcf-4033-9c00-2273355274d7",
   "metadata": {},
   "source": [
    "## Spatialdata\n",
    "https://spatialdata.scverse.org/en/latest/ "
   ]
  },
  {
   "cell_type": "code",
   "execution_count": null,
   "id": "03b29150-81a7-41fa-aefe-ef4c5d29be24",
   "metadata": {},
   "outputs": [],
   "source": [
    "sdata = sdio.visium_hd('../data/output')\n",
    "sdata"
   ]
  },
  {
   "cell_type": "code",
   "execution_count": null,
   "id": "b9f77866-622d-456b-b578-f16497249db1",
   "metadata": {},
   "outputs": [],
   "source": [
    "axes = plt.subplots(1, 2, figsize=(10, 5))[1].flatten()\n",
    "sdata.pl.render_images(\"Visium_HD_Human_Colon_Cancer_hires_image\").pl.show(ax=axes[0], title=\"Full image\")\n",
    "sdata.pl.render_images(\"Visium_HD_Human_Colon_Cancer_lowres_image\").pl.show(ax=axes[1], title=\"CytAssit image\")"
   ]
  },
  {
   "cell_type": "markdown",
   "id": "c87a8dc0-684d-4177-a664-1009367f5348",
   "metadata": {},
   "source": [
    "## Squidpy analysis"
   ]
  },
  {
   "cell_type": "code",
   "execution_count": null,
   "id": "66ec0ac9-98c5-4088-bfa2-cc80f5d7b804",
   "metadata": {},
   "outputs": [],
   "source": [
    "adata = sq.read.visium('data/output/square_002um')"
   ]
  }
 ],
 "metadata": {
  "kernelspec": {
   "display_name": "incite-py-kernel",
   "language": "python",
   "name": "incite-py"
  },
  "language_info": {
   "codemirror_mode": {
    "name": "ipython",
    "version": 3
   },
   "file_extension": ".py",
   "mimetype": "text/x-python",
   "name": "python",
   "nbconvert_exporter": "python",
   "pygments_lexer": "ipython3",
   "version": "3.8.19"
  }
 },
 "nbformat": 4,
 "nbformat_minor": 5
}
